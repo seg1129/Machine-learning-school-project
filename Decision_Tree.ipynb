{
 "cells": [
  {
   "cell_type": "markdown",
   "id": "0d8679d7",
   "metadata": {},
   "source": [
    "# Decision Tree Model\n",
    "## By Sue Gerace"
   ]
  },
  {
   "cell_type": "code",
   "execution_count": null,
   "id": "f041b191",
   "metadata": {},
   "outputs": [],
   "source": [
    "# install and import library used to pull in classes from another notebook\n",
    "!pip install import-ipynb\n",
    "\n",
    "import numpy as np\n",
    "import pandas as pd\n",
    "import os\n",
    "import earthpy as et\n",
    "import math\n",
    "import statistics\n",
    "from statistics import stdev\n",
    "\n",
    "import import_ipynb\n",
    "import Data_prep\n",
    "from data_prep2 import Data_prep2\n",
    "\n",
    "import numpy as np\n",
    "from sklearn.model_selection import train_test_split\n",
    "from sklearn.tree import DecisionTreeClassifier\n",
    "from sklearn.metrics import accuracy_score\n"
   ]
  },
  {
   "cell_type": "code",
   "execution_count": null,
   "id": "8747de5d",
   "metadata": {},
   "outputs": [],
   "source": [
    "# getting our arrest data\n",
    "# before running code from Data prep file - make sure you run cell in data prep file that has helper functions\n",
    "\n",
    "# arrest_data_df = Data_prep2.get_arrest_data()\n",
    "# print(arrest_data_df)\n",
    "\n",
    "data_prep_instance = Data_prep2()\n",
    "\n",
    "data = data_prep_instance.getPreprocessedArrestDataWithoutRace()\n",
    "\n",
    "x=data[:,:-1]\n",
    "y=data[:,-1]\n",
    "x_train, x_test, y_train, y_test = train_test_split(x, y, test_size = 0.3, random_state = 42)\n",
    "\n",
    "decision_tree_model = DecisionTreeClassifier()\n",
    "decision_tree_model.fit(x_train, y_train)\n",
    "\n",
    "predictions = decision_tree_model.predict(x_test)\n",
    "\n",
    "print(\"accuracy score with out using race feature: \", accuracy_score(y_test, predictions))\n",
    "# data_prep_instance.plot_OneModel_ROC(decision_tree_model, x_test,y_test, 'Decision Tree')\n",
    "\n",
    "data = data_prep_instance.getPreprocessedArrestData()\n",
    "\n",
    "x=data[:,:-1]\n",
    "y=data[:,-1]\n",
    "x_train, x_test, y_train, y_test = train_test_split(x, y, test_size = 0.3, random_state = 42)\n",
    "\n",
    "decision_tree_model = DecisionTreeClassifier()\n",
    "decision_tree_model.fit(x_train, y_train)\n",
    "\n",
    "predictions = decision_tree_model.predict(x_test)\n",
    "\n",
    "print(\"accuracy score using race feature: \", accuracy_score(y_test, predictions))\n",
    "Data_prep2.plot_OneModel_ROC(decision_tree_model, x_test,y_test, 'Decision Tree')\n",
    "\n"
   ]
  },
  {
   "cell_type": "code",
   "execution_count": null,
   "id": "2f0a21d8",
   "metadata": {},
   "outputs": [],
   "source": []
  }
 ],
 "metadata": {
  "kernelspec": {
   "display_name": "Python 3 (ipykernel)",
   "language": "python",
   "name": "python3"
  },
  "language_info": {
   "codemirror_mode": {
    "name": "ipython",
    "version": 3
   },
   "file_extension": ".py",
   "mimetype": "text/x-python",
   "name": "python",
   "nbconvert_exporter": "python",
   "pygments_lexer": "ipython3",
   "version": "3.10.8"
  }
 },
 "nbformat": 4,
 "nbformat_minor": 5
}
