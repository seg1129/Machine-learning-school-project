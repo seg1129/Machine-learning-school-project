{
 "cells": [
  {
   "cell_type": "markdown",
   "id": "562d0be5",
   "metadata": {},
   "source": [
    "# Bayes Model\n",
    "## by Christine"
   ]
  },
  {
   "cell_type": "code",
   "execution_count": null,
   "id": "e307d8eb",
   "metadata": {},
   "outputs": [],
   "source": [
    "# install and import library used to pull in classes from another notebook\n",
    "!pip install import-ipynb\n",
    "import numpy as np\n",
    "import pandas as pd\n",
    "import os\n",
    "import earthpy as et\n",
    "import math\n",
    "import statistics\n",
    "from statistics import stdev\n"
   ]
  },
  {
   "cell_type": "code",
   "execution_count": null,
   "id": "550961fa",
   "metadata": {},
   "outputs": [],
   "source": [
    "import import_ipynb\n",
    "# import Data_prep\n",
    "from data_prep2 import Data_prep2\n",
    "from sklearn.naive_bayes import GaussianNB\n",
    "from sklearn.model_selection import train_test_split\n"
   ]
  },
  {
   "cell_type": "code",
   "execution_count": null,
   "id": "fbe4b8ff",
   "metadata": {},
   "outputs": [],
   "source": [
    "data_prep_instance = Data_prep2()\n",
    "#get and preprocess data\n",
    "arrest_data=data_prep_instance.getPreprocessedArrestData()\n",
    "print(\"data shape: \", arrest_data.shape)\n",
    "arrest_data=arrest_data.to_numpy()\n",
    "x=arrest_data[:,:-1]#all but last column\n",
    "y=arrest_data[:,-1]#last column\n",
    "#split the data:\n",
    "x_train, x_test, y_train, y_test = train_test_split(x, y, test_size = 0.3, random_state = 42)\n",
    "nb = GaussianNB()\n",
    "nb.fit(x_train, y_train)\n",
    "print(\"Naive Bayes score: \",nb.score(x_test, y_test))\n",
    "print(\"x_test unique values\", np.unique(x_test))\n",
    "data_prep_instance.plot_OneModel_ROC(nb, x_test,y_test, 'Bayes')\n",
    "\n",
    "\n",
    "dataWithoutRace=data_prep_instance.getPreprocessedArrestDataWithoutRace()\n",
    "dataWithoutRace=dataWithoutRace.to_numpy()\n",
    "x=dataWithoutRace[:,:-1]#all but last column\n",
    "y=dataWithoutRace[:,-1]#last column\n",
    "#split the data:\n",
    "xr_train, xr_test, yr_train, yr_test = train_test_split(x, y, test_size = 0.3, random_state = 42)\n",
    "nrnb = GaussianNB()\n",
    "nrnb.fit(xr_train, yr_train)\n",
    "print(\"Naive Bayes score without Race: \",nrnb.score(xr_test, yr_test))\n",
    "print(\"xr_test unique values\", np.unique(xr_test))\n",
    "data_prep_instance.plot_OneModel_ROC(nrnb, xr_test,yr_test, 'Bayes')"
   ]
  },
  {
   "cell_type": "code",
   "execution_count": null,
   "id": "783246d1",
   "metadata": {},
   "outputs": [],
   "source": []
  },
  {
   "cell_type": "code",
   "execution_count": null,
   "id": "63684292",
   "metadata": {},
   "outputs": [],
   "source": []
  }
 ],
 "metadata": {
  "kernelspec": {
   "display_name": "Python 3 (ipykernel)",
   "language": "python",
   "name": "python3"
  },
  "language_info": {
   "codemirror_mode": {
    "name": "ipython",
    "version": 3
   },
   "file_extension": ".py",
   "mimetype": "text/x-python",
   "name": "python",
   "nbconvert_exporter": "python",
   "pygments_lexer": "ipython3",
   "version": "3.10.8"
  }
 },
 "nbformat": 4,
 "nbformat_minor": 5
}
